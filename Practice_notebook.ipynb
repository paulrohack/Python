{
 "cells": [
  {
   "cell_type": "code",
   "execution_count": null,
   "metadata": {},
   "outputs": [],
   "source": [
    "#camel case\r\n",
    "def to_camel_case(text):\r\n",
    "    a_ = list(text)\r\n",
    "    f_s = \"\"\r\n",
    "    for e, i in enumerate(a_):\r\n",
    "        if i == \"-\":\r\n",
    "            e = e + 1\r\n",
    "            a_[e]= a_[e].upper()\r\n",
    "        elif i == \"_\":\r\n",
    "            e = e + 1\r\n",
    "            a_[e]= a_[e].upper()\r\n",
    "\r\n",
    "    for s in a_:\r\n",
    "        if s != \"-\":\r\n",
    "            if s != \"_\":\r\n",
    "                f_s += s\r\n",
    "            else:\r\n",
    "                pass\r\n",
    "\r\n",
    "    return (f_s)"
   ]
  },
  {
   "cell_type": "code",
   "execution_count": 41,
   "metadata": {},
   "outputs": [
    {
     "name": "stdout",
     "output_type": "stream",
     "text": [
      "True\n"
     ]
    }
   ],
   "source": [
    "def xo(s):\r\n",
    "    o = []\r\n",
    "    x = []\r\n",
    "    for i in s:\r\n",
    "        if i.lower() == \"o\":\r\n",
    "            o.append(i)\r\n",
    "        if i.lower() == \"x\":\r\n",
    "            x.append(i)\r\n",
    "    return len(o) == len(x)\r\n"
   ]
  },
  {
   "cell_type": "code",
   "execution_count": 4,
   "metadata": {},
   "outputs": [
    {
     "name": "stdout",
     "output_type": "stream",
     "text": [
      "  1   2   3   4   5   6   7   8   9   10 "
     ]
    }
   ],
   "source": [
    "for i in range(1, 11):\r\n",
    "    print(' ', i, end=' ')"
   ]
  }
 ],
 "metadata": {
  "interpreter": {
   "hash": "d037311114fa8ac8838fcaaa1e5263923778cde33fde13b118328ee5fb271cb5"
  },
  "kernelspec": {
   "display_name": "Python 3.9.6 64-bit",
   "name": "python3"
  },
  "language_info": {
   "codemirror_mode": {
    "name": "ipython",
    "version": 3
   },
   "file_extension": ".py",
   "mimetype": "text/x-python",
   "name": "python",
   "nbconvert_exporter": "python",
   "pygments_lexer": "ipython3",
   "version": "3.9.6"
  },
  "orig_nbformat": 4
 },
 "nbformat": 4,
 "nbformat_minor": 2
}